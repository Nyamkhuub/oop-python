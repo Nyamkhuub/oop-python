{
 "cells": [
  {
   "cell_type": "markdown",
   "metadata": {},
   "source": [
    "# Polymorphism and Console Input"
   ]
  },
  {
   "cell_type": "markdown",
   "metadata": {},
   "source": [
    "The word polymorphism means having many forms. In programming, polymorphism means same function name (but different signatures) being uses for different types."
   ]
  },
  {
   "cell_type": "markdown",
   "metadata": {},
   "source": [
    "Coding practice websites\n",
    "1. Hackerrank.com\n",
    "2. codingbat.com\n",
    "3. spoj.com /English version/\n",
    "4. spoj.com/RGB7 /Mongolia version/"
   ]
  },
  {
   "cell_type": "code",
   "execution_count": 3,
   "metadata": {},
   "outputs": [
    {
     "name": "stdout",
     "output_type": "stream",
     "text": [
      "Ta nasaa oruulna uu:22\n",
      "<class 'str'>\n"
     ]
    }
   ],
   "source": [
    "too = input(\"Ta nasaa oruulna uu:\")\n",
    "\n",
    "print(type(too))"
   ]
  },
  {
   "cell_type": "code",
   "execution_count": 5,
   "metadata": {},
   "outputs": [
    {
     "data": {
      "text/plain": [
       "True"
      ]
     },
     "execution_count": 5,
     "metadata": {},
     "output_type": "execute_result"
    }
   ],
   "source": [
    "class Person():\n",
    "    def check(self, obj):\n",
    "        return isinstance(self, obj)\n",
    "class Man(Person):\n",
    "    pass\n",
    "\n",
    "man = Man()\n",
    "man.check(Person)"
   ]
  }
 ],
 "metadata": {
  "kernelspec": {
   "display_name": "Python 3",
   "language": "python",
   "name": "python3"
  },
  "language_info": {
   "codemirror_mode": {
    "name": "ipython",
    "version": 3
   },
   "file_extension": ".py",
   "mimetype": "text/x-python",
   "name": "python",
   "nbconvert_exporter": "python",
   "pygments_lexer": "ipython3",
   "version": "3.7.4"
  }
 },
 "nbformat": 4,
 "nbformat_minor": 2
}
