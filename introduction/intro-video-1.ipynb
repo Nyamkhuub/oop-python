{
  "cells": [
    {
      "metadata": {
        "collapsed": true
      },
      "cell_type": "markdown",
      "source": "#  Пайтон хэлний хичээл 1"
    },
    {
      "metadata": {},
      "cell_type": "markdown",
      "source": "Энэ файл нь Jupyter notebook юм. Энэ нь пайтоны код бичих боломжтой бөгөөд мөр мөрөөр ажиллуулахад амар хялбар байдаг. Хэрвээ та нар энэ програмыг ашиглахыг хүсвэл\n1. https://notebooks.azure.com/ - Microsoft-ийн аккаунт ашиглаж нэвтрэх\n2. https://colab.research.google.com - Google-ийн аккаунт ашиглаж нэвтрэх\nЭнэ хоёр онлайн Jupyter notebook-ийг ашиглах бүрэн боломжтой. Бас дараагийн видео хичээлийг энэ програмыг ашиглаж орвол хялбар санагдвал коммент бичээрэй! дараагийн видео хичээл дээр бүрэн тайлбарлаж өгөх болно :D"
    },
    {
      "metadata": {
        "trusted": true
      },
      "cell_type": "markdown",
      "source": "#### Энэхүү хичээл маань Объект хандлагат технологийг пайтон хэлний тусламжтайгаар анхан шатны мэдлэг олгох зорилготой.\nВидео хичээл дээр ямар учраас пайтон хэлийг сонгосон хэн үзвэл тохиромжтой вэ? гэсэн асуултуудад хариулт өгсөн бөгөөд Классын анхан шатны ойлголтуудыг хэрэгжүүлж харуулсан."
    },
    {
      "metadata": {
        "trusted": true
      },
      "cell_type": "code",
      "source": "#Энэ бол коммент # тэмдэгтийн араас орсон кодыг пайтон хэлний хөрвүүлэгч маань алгасаад явдаг.",
      "execution_count": 1,
      "outputs": []
    },
    {
      "metadata": {},
      "cell_type": "markdown",
      "source": "## Пайтон хэлний арифметик үйлдлүүдийн хэл зүй/Syntax/"
    },
    {
      "metadata": {
        "trusted": true
      },
      "cell_type": "code",
      "source": "#Нэмэх\na = 3 + 4\n#Хасах\nb = 3 - 4\n#Үржих\nc = 3 * 4\n#Хуваах үйлдэл бөгөөд энэ нь үргэлж бутархай тоон утга буцаадаг жишээ нь 4 / 2 = 2.0\nd = 3 / 4\n#Бүхлээр хуваах үйлдэл зөвхөн бүхэл хэсгийг нь авна гэсэн үг\ne = 3 // 4\n#Үлдэгдэл\nf = 3 % 4\n#Зэрэг дэвшүүлэх үйлдэл\ng = 3 ** 4\n\nprint(a, b, c, d, e, f, g)",
      "execution_count": 2,
      "outputs": [
        {
          "output_type": "stream",
          "text": "7 -1 12 0.75 0 3 81\n",
          "name": "stdout"
        }
      ]
    },
    {
      "metadata": {},
      "cell_type": "markdown",
      "source": "## Пайтон хэлний нөхцөлт оператор"
    },
    {
      "metadata": {
        "trusted": true
      },
      "cell_type": "code",
      "source": "a = 4\nif a == 4:\n    print('equal')\nelif a == -4:\n    print('not equal')\nelse:\n    print('not equal')",
      "execution_count": 3,
      "outputs": [
        {
          "output_type": "stream",
          "text": "equal\n",
          "name": "stdout"
        }
      ]
    },
    {
      "metadata": {},
      "cell_type": "markdown",
      "source": "## Пайтон хэлний давталт"
    },
    {
      "metadata": {
        "trusted": true
      },
      "cell_type": "code",
      "source": "for i in range(10):\n    print(i)\nprint('-----------------------')\nfor i in range(5, 10):\n    print(i)\nprint('-----------------------')\nfor i in range(5, 10, 2):\n    print(i)",
      "execution_count": 4,
      "outputs": [
        {
          "output_type": "stream",
          "text": "0\n1\n2\n3\n4\n5\n6\n7\n8\n9\n-----------------------\n5\n6\n7\n8\n9\n-----------------------\n5\n7\n9\n",
          "name": "stdout"
        }
      ]
    },
    {
      "metadata": {},
      "cell_type": "markdown",
      "source": "За бусад энгийн зүйлсийг энэхүү сувгаас олж мэдээрэй залуусаа:D\nhttps://www.youtube.com/playlist?list=PLWOqJmFMmcPmV1wPt5ycM3iCQV_IUtflb\nОдоо хэдүүлээ үндсэн сэдэв болох Объект хандлагат програмчлалруугаа орцгооё!"
    },
    {
      "metadata": {},
      "cell_type": "markdown",
      "source": "## Объект хандлагат технологийг пайтон хэл дээр ашиглах нь"
    },
    {
      "metadata": {},
      "cell_type": "markdown",
      "source": "#### Класс гэдэг нь хоорондоо логикийн хувьд уялдаа холбоотой хувьсагчид болон тэдгээр дээр үйлдэл хийх функцуудыг агуулсан хэрэглэгчийн тодорхойлсон төрөл юм. Класс төрөлтэйгээр зарлагдсан хувьсагчыг тухайн классын обьект гэж нэрлэдэг.\n###### Source: http://itechnology1234.blogspot.com/"
    },
    {
      "metadata": {
        "trusted": true
      },
      "cell_type": "code",
      "source": "#Энгийн нэг Car гэсэн класс тодорхойлж үзье\nclass Car:\n    #Энэ нь байгуулагч функц бөгөөд классын объект байгуулагдахад хамгийн түрүүнд дуудагддаг гэдэг утгаараа их онцлог.\n    #Пайтон хэлэнд дараах байдлаар байгуулагч функцийг тодорхойлж болох бөгөөд параметергүй байх боломжтой. Хэрвээ параметрийн\n    #утгыг зааж өгөхгүй бол name, engine гэсэн параметерийн өөрсдийн анх зааж өгсөн \"My car\", \"V8\" гэх эдгээр утгыг өөрийн утга болгож\n    #авч шинэ объект байгуулдаг гэж ойлгож болно.\n    def __init__(self, name=\"My car\", engine = \"V8\"):\n        self.name = name\n        self.engine = engine\n    #Энэхүү функц нь классын мэдээллийг хэвлэх зориулалттай.\n    def printInfo(self):\n        print(self.name, self.engine)\n\n#Классыг туршиж үзэцгээе\nmy_car = Car()\nmy_car.printInfo()\nother_car = Car(\"henii mashin boldoo?\", \"V6\")\nother_car.printInfo()",
      "execution_count": 6,
      "outputs": [
        {
          "output_type": "stream",
          "text": "My car V8\nhenii mashin boldoo? V6\n",
          "name": "stdout"
        }
      ]
    }
  ],
  "metadata": {
    "kernelspec": {
      "name": "python36",
      "display_name": "Python 3.6",
      "language": "python"
    },
    "language_info": {
      "mimetype": "text/x-python",
      "nbconvert_exporter": "python",
      "name": "python",
      "pygments_lexer": "ipython3",
      "version": "3.6.6",
      "file_extension": ".py",
      "codemirror_mode": {
        "version": 3,
        "name": "ipython"
      }
    }
  },
  "nbformat": 4,
  "nbformat_minor": 2
}